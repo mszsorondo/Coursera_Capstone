{
 "cells": [
  {
   "cell_type": "markdown",
   "id": "8938efa8-b604-4648-8d94-b1e916845bf0",
   "metadata": {},
   "source": [
    "## The Battle of Neighborhoods | Business Proposal | Introduction"
   ]
  },
  {
   "cell_type": "markdown",
   "id": "fa015f7b-eb7a-43df-9f63-30ebbb33a45f",
   "metadata": {},
   "source": [
    "### Introduction:"
   ]
  },
  {
   "cell_type": "markdown",
   "id": "f400a996-2ebb-4eb4-8aa1-121629a7fdb8",
   "metadata": {},
   "source": [
    "The purpose of this Project is to help people in exploring better facilities around their neighborhood. It will help people making smart and efficient decision on selecting great neighborhood out of numbers of other neighborhoods in Scarborough, Toranto."
   ]
  },
  {
   "cell_type": "markdown",
   "id": "5e0c8786-076b-48e3-bc6c-fcd3b8da2876",
   "metadata": {},
   "source": [
    "Lots of people are migrating to various states of Canada and needed lots of research for good housing prices and reputated schools for their children. This project is for those people who are looking for better neighborhoods. For ease of accessing to Cafe, School, Super market, medical shops, grocery shops, mall, theatre, hospital, like minded people, etc."
   ]
  },
  {
   "cell_type": "markdown",
   "id": "d060b947-178a-4766-aae0-94d8cf1ce8a9",
   "metadata": {},
   "source": [
    "This Project aim to create an analysis of features for a people migrating to Scarborough to search a best neighborhood as a comparative analysis between neighborhoods. The features include median housing price and better school according to ratings, crime rates of that particular area, road connectivity, weather conditions, good management for emergency, water resources both freash and waste water and excrement conveyed in sewers and recreational facilities."
   ]
  },
  {
   "cell_type": "markdown",
   "id": "567df540-9c44-4347-9702-991a0be38b60",
   "metadata": {},
   "source": [
    "It will help people to get awareness of the area and neighborhood before moving to a new city, state, country or place for their work or to start a new fresh life."
   ]
  },
  {
   "cell_type": "markdown",
   "id": "fad59903-19f8-4b23-87ad-402e91cee204",
   "metadata": {},
   "source": [
    "### Problem Which Tried to Solve:"
   ]
  },
  {
   "cell_type": "markdown",
   "id": "0e2d67fa-10ee-458d-88aa-76733f430a0c",
   "metadata": {},
   "source": [
    "The major purpose of this project, is to suggest a better neighborhood in a new city for the person who are shiffting there. Social presence in society in terms of like minded people. Connectivity to the airport, bus stand, city center, markets and other daily needs things nearby."
   ]
  },
  {
   "cell_type": "markdown",
   "id": "570ae247-2690-4bf3-8e99-a15e8697656d",
   "metadata": {},
   "source": [
    "1. Sorted list of house in terms of housing prices in a ascending or descending order\n",
    "2. Sorted list of schools in terms of location, fees, rating and reviews"
   ]
  },
  {
   "cell_type": "markdown",
   "id": "201b4022-cfc4-4930-acbc-2ad5b01c6b1f",
   "metadata": {},
   "source": [
    "### The Location:"
   ]
  },
  {
   "cell_type": "markdown",
   "id": "bbce2492-2904-4d39-8303-828492133b40",
   "metadata": {},
   "source": [
    "Scarborough is a popular destination for new immigrants in Canada to reside. As a result, it is one of the most diverse and multicultural areas in the Greater Toronto Area, being home to various religious groups and places of worship. Although immigration has become a hot topic over the past few years with more governments seeking more restrictions on immigrants and refugees, the general trend of immigration into Canada has been one of on the rise."
   ]
  },
  {
   "cell_type": "markdown",
   "id": "5f67449a-8f0e-46a0-892d-7ea288b6bc44",
   "metadata": {},
   "source": [
    "### Foursquare API:"
   ]
  },
  {
   "cell_type": "markdown",
   "id": "3546df69-6a99-43d1-a3b8-92c021d5b325",
   "metadata": {},
   "source": [
    "This project would use Four-square API as its prime data gathering source as it has a database of millions of places, especially their places API which provides the ability to perform location search, location sharing and details about a business."
   ]
  },
  {
   "cell_type": "markdown",
   "id": "21cce95f-7a9c-4aec-8ee0-0a5ae21f51eb",
   "metadata": {},
   "source": [
    "### Work Flow:"
   ]
  },
  {
   "cell_type": "markdown",
   "id": "71bd41eb-42fd-48ab-9396-253cb5e45e13",
   "metadata": {},
   "source": [
    "Using credentials of Foursquare API features of near-by places of the neighborhoods would be mined. Due to http request limitations the number of places per neighborhood parameter would reasonably be set to 100 and the radius parameter would be set to 500."
   ]
  },
  {
   "cell_type": "markdown",
   "id": "861a5d8b-9b69-4cca-897d-da1522dd4546",
   "metadata": {},
   "source": [
    "### Clustering Approach:"
   ]
  },
  {
   "cell_type": "markdown",
   "id": "2f68b5f4-3c51-4d00-9ae8-1794d6392f67",
   "metadata": {},
   "source": [
    "To compare the similarities of two cities, we decided to explore neighborhoods, segment them, and group them into clusters to find similar neighborhoods in a big city like New York and Toronto. To be able to do that, we need to cluster data which is a form of unsupervised machine learning: k-means clustering algorithm."
   ]
  },
  {
   "cell_type": "markdown",
   "id": "8da386ca-3e1d-480e-a2ec-f2df214a775a",
   "metadata": {},
   "source": [
    "### Libraries Which are Used to Develope the Project:"
   ]
  },
  {
   "cell_type": "markdown",
   "id": "1c8bd424-5c95-42d2-99b7-2a919e1f06b7",
   "metadata": {},
   "source": [
    "Pandas: For creating and manipulating dataframes.\n",
    "\n",
    "Folium: Python visualization library would be used to visualize the neighborhoods cluster distribution of using interactive leaflet map.\n",
    "\n",
    "Scikit Learn: For importing k-means clustering.\n",
    "\n",
    "JSON: Library to handle JSON files.\n",
    "\n",
    "XML: To separate data from presentation and XML stores data in plain text format.\n",
    "\n",
    "Geocoder: To retrieve Location Data.\n",
    "\n",
    "Beautiful Soup and Requests: To scrap and library to handle http requests.\n",
    "\n",
    "Matplotlib: Python Plotting Module."
   ]
  }
 ],
 "metadata": {
  "kernelspec": {
   "display_name": "Python 3",
   "language": "python",
   "name": "python3"
  },
  "language_info": {
   "codemirror_mode": {
    "name": "ipython",
    "version": 3
   },
   "file_extension": ".py",
   "mimetype": "text/x-python",
   "name": "python",
   "nbconvert_exporter": "python",
   "pygments_lexer": "ipython3",
   "version": "3.9.2"
  }
 },
 "nbformat": 4,
 "nbformat_minor": 5
}
