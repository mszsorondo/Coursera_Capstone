{
 "cells": [
  {
   "cell_type": "markdown",
   "id": "91042407-88d7-41c0-a380-7b93f0d68237",
   "metadata": {},
   "source": [
    "## The Battle of Neighborhoods | Data Description"
   ]
  },
  {
   "cell_type": "markdown",
   "id": "18e5199a-a9da-4006-be44-98550a115748",
   "metadata": {},
   "source": [
    "### Data Description:"
   ]
  },
  {
   "cell_type": "markdown",
   "id": "ac043871-5e96-4efc-bb6a-8b5aae0ab97b",
   "metadata": {},
   "source": [
    "Data Link: https://en.wikipedia.org/wiki/List_of_postal_codes_of_Canada:_M"
   ]
  },
  {
   "cell_type": "markdown",
   "id": "2dbb6c9c-7723-4516-8fee-84c6cdb9f3cb",
   "metadata": {},
   "source": [
    "Will use Scarborough dataset which we scrapped from wikipedia on Week 3. Dataset consisting of latitude and longitude, zip codes."
   ]
  },
  {
   "cell_type": "markdown",
   "id": "1256b6c6-5060-46b6-b820-505cbe0cbda2",
   "metadata": {},
   "source": [
    "### Foursquare API Data:"
   ]
  },
  {
   "cell_type": "markdown",
   "id": "53573a90-fa66-4888-9867-492fe7042d04",
   "metadata": {},
   "source": [
    "We will need data about different venues in different neighborhoods of that specific borough. In order to gain that information we will use \"Foursquare\" locational information. Foursquare is a location data provider with information about all manner of venues and events within an area of interest. Such information includes venue names, locations, menus and even photos. As such, the foursquare location platform will be used as the sole data source since all the stated required information can be obtained through the API."
   ]
  },
  {
   "cell_type": "markdown",
   "id": "b22ce58e-0459-4572-9089-9975148ba651",
   "metadata": {},
   "source": [
    "After finding the list of neighborhoods, we then connect to the Foursquare API to gather information about venues inside each and every neighborhood. For each neighborhood, we have chosen the radius to be 100 meter."
   ]
  },
  {
   "cell_type": "markdown",
   "id": "3f0a9ece-129a-4998-a8ea-e725576707e0",
   "metadata": {},
   "source": [
    "The data retrieved from Foursquare contained information of venues within a specified distance of the longitude and latitude of the postcodes. The information obtained per venue as follows:"
   ]
  },
  {
   "cell_type": "markdown",
   "id": "8b7b81bf-bc3b-4420-9884-ea810bab1a7d",
   "metadata": {},
   "source": [
    "1. Neighborhood\n",
    "2. Neighborhood Latitude\n",
    "3. Neighborhood Longitude\n",
    "4. Venue\n",
    "5. Name of the venue e.g. the name of a store or restaurant\n",
    "6. Venue Latitude\n",
    "7. Venue Longitude\n",
    "8. Venue Category"
   ]
  },
  {
   "cell_type": "markdown",
   "id": "bf6c2528-aab6-4a3e-bd4a-a10e5fc48a64",
   "metadata": {},
   "source": []
  }
 ],
 "metadata": {
  "kernelspec": {
   "display_name": "Python 3",
   "language": "python",
   "name": "python3"
  },
  "language_info": {
   "codemirror_mode": {
    "name": "ipython",
    "version": 3
   },
   "file_extension": ".py",
   "mimetype": "text/x-python",
   "name": "python",
   "nbconvert_exporter": "python",
   "pygments_lexer": "ipython3",
   "version": "3.9.2"
  }
 },
 "nbformat": 4,
 "nbformat_minor": 5
}
